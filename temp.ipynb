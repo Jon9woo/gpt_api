{
 "cells": [
  {
   "cell_type": "code",
   "execution_count": 2,
   "metadata": {},
   "outputs": [
    {
     "name": "stdout",
     "output_type": "stream",
     "text": [
      "ChatGPT : 안녕하세요! 도움이 필요하시면 언제든지 물어보세요. 함께 대화를 나누는 걸 환영합니다.\n",
      "ChatGPT : 죄송해요, 저는 개인 정보를 수집하거나 저장하는 기능이 없어서 제 나이를 알려드릴 수 없어요. 하지만 여러분이 궁금한 것이 있으면 최대한 도와드릴 수 있어요. 혹시 다른 궁금한 점이 있으신가요? 함께 이야기를 나누어 보세요.\n"
     ]
    }
   ],
   "source": [
    "from openai import OpenAI\n",
    "from dotenv import load_dotenv\n",
    "import os\n",
    "\n",
    "load_dotenv()\n",
    "\n",
    "os.environ.get(\"OPEN_API_KEY\")\n",
    "\n",
    "\n",
    "api_key = os.environ.get(\"OPEN_API_KEY\")\n",
    "client = OpenAI(\n",
    "    api_key= api_key\n",
    ")\n",
    "\n",
    "messages = []\n",
    "while True:\n",
    "    content = input(\"사용자: \")\n",
    "    if content == \"p\":\n",
    "        break\n",
    "    messages.append({\"role\": \"user\", \"content\": content})\n",
    "\n",
    "    complation = client.chat.completions.create(\n",
    "        model = \"gpt-3.5-turbo\",\n",
    "        #model = \"gpt-4-turbo\",\n",
    "        messages = messages\n",
    "    )\n",
    "\n",
    "    chat_response = complation.choices[0].message.content\n",
    "    print(f\"ChatGPT : {chat_response}\")\n",
    "    messages.append({\"role\": \"assistant\", \"content\": chat_response})"
   ]
  },
  {
   "cell_type": "code",
   "execution_count": null,
   "metadata": {},
   "outputs": [],
   "source": []
  }
 ],
 "metadata": {
  "kernelspec": {
   "display_name": "base",
   "language": "python",
   "name": "python3"
  },
  "language_info": {
   "codemirror_mode": {
    "name": "ipython",
    "version": 3
   },
   "file_extension": ".py",
   "mimetype": "text/x-python",
   "name": "python",
   "nbconvert_exporter": "python",
   "pygments_lexer": "ipython3",
   "version": "3.9.13"
  }
 },
 "nbformat": 4,
 "nbformat_minor": 2
}
